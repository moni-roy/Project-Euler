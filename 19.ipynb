{
 "cells": [
  {
   "cell_type": "markdown",
   "metadata": {},
   "source": [
    "# Problem 19 (Counting Sundays)\n",
    "You are given the following information, but you may prefer to do some research for yourself.\n",
    "\n",
    "- 1 Jan 1900 was a Monday.\n",
    "- Thirty days has September,April, June and November. \n",
    "  All the rest have thirty-one, Saving February alone,\n",
    "  Which has twenty-eight, rain or shine. And on leap years, twenty-nine.\n",
    "- A leap year occurs on any year evenly divisible by 4, but not on a century unless it is divisible by 400.\n",
    "\n",
    "How many Sundays fell on the first of the month during the twentieth century (1 Jan 1901 to 31 Dec 2000)?"
   ]
  },
  {
   "cell_type": "markdown",
   "metadata": {},
   "source": [
    "# Solutions (System Function & Manually)"
   ]
  },
  {
   "cell_type": "code",
   "execution_count": 6,
   "metadata": {},
   "outputs": [
    {
     "name": "stdout",
     "output_type": "stream",
     "text": [
      "171 found in 0.0008294582366943359 seconds.\n"
     ]
    }
   ],
   "source": [
    "import datetime\n",
    "import time\n",
    "if __name__=='__main__':\n",
    "        start = time.time()\n",
    "        Ans = 0\n",
    "        for i in range(1901, 2001):\n",
    "            for j in range(1, 13):\n",
    "                d = datetime.date(i,j,1) # 0 - monday, 6 - sunday\n",
    "                if(d.weekday() == 6):\n",
    "                    Ans +=1\n",
    "        end = time.time()-start\n",
    "        print(str(Ans)+\" found in \"+str(end)+\" seconds.\")"
   ]
  },
  {
   "cell_type": "code",
   "execution_count": 18,
   "metadata": {},
   "outputs": [
    {
     "name": "stdout",
     "output_type": "stream",
     "text": [
      "171 found in 0.0011348724365234375 seconds.\n"
     ]
    }
   ],
   "source": [
    "import time\n",
    "def leap(x):\n",
    "    if(x%4==0 and x%100):\n",
    "        return 1\n",
    "    if(x%400==0):\n",
    "        return 1\n",
    "    return 0\n",
    "def month(x):\n",
    "    if(x == 11 or x == 4 or x == 6):\n",
    "        return 30\n",
    "    else:\n",
    "        return 31\n",
    "if __name__=='__main__':\n",
    "        start = time.time()\n",
    "        Ans = 1\n",
    "        total = 0\n",
    "        for i in range(1901, 2001):\n",
    "            for j in range(1, 13):\n",
    "                if(j!=2):\n",
    "                    total += month(j)\n",
    "                elif(j==2 and leap(i)):\n",
    "                    total += 29\n",
    "                else:\n",
    "                    total += 28\n",
    "                if(total%7==0):\n",
    "                    Ans += 1\n",
    "        end = time.time()-start\n",
    "        print(str(Ans)+\" found in \"+str(end)+\" seconds.\")"
   ]
  }
 ],
 "metadata": {
  "kernelspec": {
   "display_name": "Python 3",
   "language": "python",
   "name": "python3"
  },
  "language_info": {
   "codemirror_mode": {
    "name": "ipython",
    "version": 3
   },
   "file_extension": ".py",
   "mimetype": "text/x-python",
   "name": "python",
   "nbconvert_exporter": "python",
   "pygments_lexer": "ipython3",
   "version": "3.6.8"
  }
 },
 "nbformat": 4,
 "nbformat_minor": 4
}
