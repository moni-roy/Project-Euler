{
 "cells": [
  {
   "cell_type": "markdown",
   "metadata": {},
   "source": [
    "# Problem 23 - Non-abundant sums (Description)\n",
    "A perfect number is a number for which the sum of its proper divisors is exactly equal to the number. For example, the sum of the proper divisors of 28 would be 1 + 2 + 4 + 7 + 14 = 28, which means that 28 is a perfect number.\n",
    "\n",
    "A number n is called deficient if the sum of its proper divisors is less than n and it is called abundant if this sum exceeds n.\n",
    "\n",
    "As 12 is the smallest abundant number, 1 + 2 + 3 + 4 + 6 = 16, the smallest number that can be written as the sum of two abundant numbers is 24. By mathematical analysis, it can be shown that all integers greater than 28123 can be written as the sum of two abundant numbers. However, this upper limit cannot be reduced any further by analysis even though it is known that the greatest number that cannot be expressed as the sum of two abundant numbers is less than this limit.\n",
    "\n",
    "Find the sum of all the positive integers which cannot be written as the sum of two abundant numbers."
   ]
  },
  {
   "cell_type": "markdown",
   "metadata": {},
   "source": [
    "# Solution"
   ]
  },
  {
   "cell_type": "code",
   "execution_count": 16,
   "metadata": {},
   "outputs": [],
   "source": [
    "import math\n",
    "def abundant(a):\n",
    "    sm = 1\n",
    "    for i in range(2, int(math.sqrt(a)) + 1):\n",
    "        if(a%i == 0):\n",
    "            sm += i\n",
    "            if(int(a/i) != i):\n",
    "                sm += a/i\n",
    "    return sm>a"
   ]
  },
  {
   "cell_type": "code",
   "execution_count": 21,
   "metadata": {},
   "outputs": [
    {
     "name": "stdout",
     "output_type": "stream",
     "text": [
      "Answer: 4179871 found in 9.423092365264893 seconds.\n"
     ]
    }
   ],
   "source": [
    "import time\n",
    "if __name__=='__main__':\n",
    "    start = time.time()\n",
    "    abun = []\n",
    "    for i in range(1, 28124):\n",
    "        if(abundant(i)):\n",
    "            abun.append(i)\n",
    "    mp = [0]*28124\n",
    "    for i in range(0, len(abun)):\n",
    "        for j in range(i,len(abun)):\n",
    "            if(abun[i]+abun[j]<28124):\n",
    "                mp[abun[i]+abun[j]] = 1\n",
    "    Ans = 0\n",
    "    for i in range(1, 28124):\n",
    "        if(mp[i]==0):\n",
    "            Ans += i\n",
    "    end = time.time()-start\n",
    "    print('Answer: '+str(Ans)+' found in '+str(end)+' seconds.')"
   ]
  }
 ],
 "metadata": {
  "kernelspec": {
   "display_name": "Python 3",
   "language": "python",
   "name": "python3"
  },
  "language_info": {
   "codemirror_mode": {
    "name": "ipython",
    "version": 3
   },
   "file_extension": ".py",
   "mimetype": "text/x-python",
   "name": "python",
   "nbconvert_exporter": "python",
   "pygments_lexer": "ipython3",
   "version": "3.6.8"
  }
 },
 "nbformat": 4,
 "nbformat_minor": 4
}
